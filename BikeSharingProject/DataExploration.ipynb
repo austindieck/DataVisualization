{
 "cells": [
  {
   "cell_type": "code",
   "execution_count": 4,
   "metadata": {},
   "outputs": [
    {
     "name": "stdout",
     "output_type": "stream",
     "text": [
      "New CSV file created with station names instead of codes.\n"
     ]
    }
   ],
   "source": [
    "import pandas as pd\n",
    "\n",
    "# Load the stations.csv file\n",
    "stations_df = pd.read_csv('toronto/stations.csv')\n",
    "\n",
    "# Load the trips.csv file\n",
    "trips_df = pd.read_csv('toronto/trips.csv')\n",
    "\n",
    "# Create a dictionary to map station codes to station names\n",
    "station_code_to_name = dict(zip(stations_df['code'], stations_df['name']))\n",
    "\n",
    "# Map the start and end station codes to station names in the trips_df\n",
    "trips_df['start_station_name'] = trips_df['start_station_code'].map(station_code_to_name)\n",
    "trips_df['end_station_name'] = trips_df['end_station_code'].map(station_code_to_name)\n",
    "\n",
    "# Drop the original start and end station codes\n",
    "trips_df.drop(['start_station_code', 'end_station_code'], axis=1, inplace=True)\n",
    "\n",
    "# Save the new CSV with station names\n",
    "trips_df.to_csv('trips_with_station_names.csv', index=False)\n",
    "\n",
    "print(\"New CSV file created with station names instead of codes.\")\n"
   ]
  },
  {
   "cell_type": "code",
   "execution_count": 5,
   "metadata": {},
   "outputs": [],
   "source": [
    "import pandas as pd\n",
    "\n",
    "# Load the dataset\n",
    "df = pd.read_csv('trips_with_station_names.csv')\n",
    "\n",
    "# Create a dataframe for edges (trips between stations)\n",
    "edges = df.groupby(['start_station_name', 'end_station_name']).size().reset_index(name='trip_count')\n",
    "\n",
    "# Create a dataframe for nodes (total trips involving each station)\n",
    "start_stations = df.groupby('start_station_name').size().reset_index(name='start_count')\n",
    "end_stations = df.groupby('end_station_name').size().reset_index(name='end_count')\n",
    "\n",
    "# Merge start and end station counts to get total appearances\n",
    "nodes = pd.merge(start_stations, end_stations, left_on='start_station_name', right_on='end_station_name', how='outer')\n",
    "\n",
    "# Fill NaN values and sum the counts\n",
    "nodes['total_count'] = nodes['start_count'].fillna(0) + nodes['end_count'].fillna(0)\n",
    "\n",
    "# Keep only station name and total count\n",
    "nodes = nodes[['start_station_name', 'total_count']].rename(columns={'start_station_name': 'station_name'})\n",
    "\n",
    "# Save the results to CSV files\n",
    "edges.to_csv('aggregated_edges.csv', index=False)\n",
    "nodes.to_csv('aggregated_nodes.csv', index=False)\n"
   ]
  }
 ],
 "metadata": {
  "kernelspec": {
   "display_name": "Python 3",
   "language": "python",
   "name": "python3"
  },
  "language_info": {
   "codemirror_mode": {
    "name": "ipython",
    "version": 3
   },
   "file_extension": ".py",
   "mimetype": "text/x-python",
   "name": "python",
   "nbconvert_exporter": "python",
   "pygments_lexer": "ipython3",
   "version": "3.9.18"
  }
 },
 "nbformat": 4,
 "nbformat_minor": 2
}
