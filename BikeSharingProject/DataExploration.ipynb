{
 "cells": [
  {
   "cell_type": "code",
   "execution_count": null,
   "metadata": {},
   "outputs": [
    {
     "data": {
      "application/vnd.plotly.v1+json": {
       "config": {
        "plotlyServerURL": "https://plot.ly"
       },
       "data": [
        {
         "hoverinfo": "none",
         "line": {
          "color": "gray",
          "width": 2
         },
         "mode": "lines",
         "type": "scatter",
         "x": [
          -0.8118096353891174,
          -0.7211759721802392,
          null,
          -0.8118096353891174,
          -0.6375873882576454,
          null,
          -0.8118096353891174,
          -0.9191880629773163,
          null,
          -0.8118096353891174,
          -0.9771397119210944,
          null,
          -0.8118096353891174,
          -1,
          null,
          -0.7211759721802392,
          -0.6127497919061851,
          null,
          -0.6375873882576454,
          -0.4377252521469809,
          null,
          0.3785513806950601,
          0.5372559466162867,
          null,
          0.3785513806950601,
          0.09985386966291461,
          null,
          0.3785513806950601,
          0.4579571496782337,
          null,
          0.3785513806950601,
          0.5668675733059888,
          null,
          0.09985386966291461,
          -0.19461744584996327,
          null,
          -0.4377252521469809,
          -0.5334739291746545,
          null,
          -0.4377252521469809,
          -0.19461744584996327,
          null,
          0.5668675733059888,
          0.6868326673796195,
          null,
          0.5668675733059888,
          0.48978029256308414,
          null,
          0.5668675733059888,
          0.7405274673811736,
          null,
          0.5668675733059888,
          0.6784270519904254,
          null,
          0.6784270519904254,
          0.7060115057233763,
          null,
          0.6784270519904254,
          0.8662965885741619,
          null,
          0.6784270519904254,
          0.8002114147327946,
          null,
          0.6784270519904254,
          0.6035893485894638,
          null,
          0.6784270519904254,
          0.5526531435712607,
          null,
          0.6784270519904254,
          0.8560607006510412,
          null,
          -0.19461744584996327,
          -0.38656686550995084,
          null,
          -0.19461744584996327,
          -0.09588153682374485,
          null,
          -0.19461744584996327,
          -0.04916819903367625,
          null,
          -0.19461744584996327,
          -0.3340686532619987,
          null,
          -0.19461744584996327,
          -0.33069753730293155,
          null,
          -0.19461744584996327,
          -0.18481764875522927,
          null,
          -0.19461744584996327,
          -0.03788959587552059,
          null,
          -0.19461744584996327,
          -0.27201595319916894,
          null,
          -0.6127497919061851,
          -0.4843029215494694,
          null
         ],
         "y": [
          -0.16150237388575264,
          -0.4039035257219699,
          null,
          -0.16150237388575264,
          0.10833538414387336,
          null,
          -0.16150237388575264,
          -0.297242654128119,
          null,
          -0.16150237388575264,
          -0.09410002990235847,
          null,
          -0.16150237388575264,
          -0.21061831046425644,
          null,
          -0.4039035257219699,
          -0.602104306871555,
          null,
          0.10833538414387336,
          0.3754831730611871,
          null,
          0.11050107274734212,
          0.1587870874663248,
          null,
          0.11050107274734212,
          0.38134570927536315,
          null,
          0.11050107274734212,
          0.2519761632090741,
          null,
          0.11050107274734212,
          -0.23653648717267084,
          null,
          0.38134570927536315,
          0.6418219536096957,
          null,
          0.3754831730611871,
          0.30850728663345944,
          null,
          0.3754831730611871,
          0.6418219536096957,
          null,
          -0.23653648717267084,
          -0.1365635950259973,
          null,
          -0.23653648717267084,
          -0.3340634048172325,
          null,
          -0.23653648717267084,
          -0.251318720160991,
          null,
          -0.23653648717267084,
          -0.6028057568640933,
          null,
          -0.6028057568640933,
          -0.8025669676912456,
          null,
          -0.6028057568640933,
          -0.6861344074131943,
          null,
          -0.6028057568640933,
          -0.7657612696617485,
          null,
          -0.6028057568640933,
          -0.7906378685516825,
          null,
          -0.6028057568640933,
          -0.694896296707323,
          null,
          -0.6028057568640933,
          -0.577532804090639,
          null,
          0.6418219536096957,
          0.7115679481111793,
          null,
          0.6418219536096957,
          0.8360617844285017,
          null,
          0.6418219536096957,
          0.6388171232430777,
          null,
          0.6418219536096957,
          0.792965641000656,
          null,
          0.6418219536096957,
          0.6052635458988109,
          null,
          0.6418219536096957,
          0.8454026815419401,
          null,
          0.6418219536096957,
          0.7549855042112533,
          null,
          0.6418219536096957,
          0.8597653353441496,
          null,
          -0.602104306871555,
          -0.733298614795061,
          null
         ]
        },
        {
         "hoverinfo": "text",
         "marker": {
          "color": [
           5,
           2,
           2,
           4,
           1,
           2,
           1,
           1,
           3,
           1,
           5,
           1,
           1,
           7,
           1,
           1,
           1,
           1,
           1,
           10,
           1,
           1,
           1,
           1,
           1,
           1,
           1,
           1,
           1,
           1,
           2,
           1,
           1,
           1
          ],
          "colorbar": {
           "title": {
            "text": "Node Connections"
           }
          },
          "colorscale": [
           [
            0,
            "#440154"
           ],
           [
            0.1111111111111111,
            "#482878"
           ],
           [
            0.2222222222222222,
            "#3e4989"
           ],
           [
            0.3333333333333333,
            "#31688e"
           ],
           [
            0.4444444444444444,
            "#26828e"
           ],
           [
            0.5555555555555556,
            "#1f9e89"
           ],
           [
            0.6666666666666666,
            "#35b779"
           ],
           [
            0.7777777777777778,
            "#6ece58"
           ],
           [
            0.8888888888888888,
            "#b5de2b"
           ],
           [
            1,
            "#fde725"
           ]
          ],
          "size": [
           35,
           20,
           20,
           30,
           15,
           20,
           15,
           15,
           25,
           15,
           35,
           15,
           15,
           45,
           15,
           15,
           15,
           15,
           15,
           60,
           15,
           15,
           15,
           15,
           15,
           15,
           15,
           15,
           15,
           15,
           20,
           15,
           15,
           15
          ]
         },
         "mode": "markers",
         "text": [
          "Node: Dork Tower, Degree: 5",
          "Node: Nur Peanuts, Degree: 2",
          "Node: Hepta, Degree: 2",
          "Node: Snake Pit, Degree: 4",
          "Node: Lucky Captain, Degree: 1",
          "Node: Alien Wars, Degree: 2",
          "Node: Full Moon Jacket, Degree: 1",
          "Node: Crystal Faire, Degree: 1",
          "Node: Buffy the Vampire Slayer, Degree: 3",
          "Node: Twixt, Degree: 1",
          "Node: Abduction, Degree: 5",
          "Node: Leipzig, Degree: 1",
          "Node: Astro Drive, Degree: 1",
          "Node: Histrio, Degree: 7",
          "Node: Guardians Call, Degree: 1",
          "Node: Showdown Yahtzee, Degree: 1",
          "Node: Formissimo, Degree: 1",
          "Node: Isolation, Degree: 1",
          "Node: The Circle, Degree: 1",
          "Node: Fourth Dimension, Degree: 10",
          "Node: Witty Pong, Degree: 1",
          "Node: Lumberjack, Degree: 1",
          "Node: Guildes, Degree: 1",
          "Node: Shabadabada, Degree: 1",
          "Node: Minotaur Lords, Degree: 1",
          "Node: New Mastermind, Degree: 1",
          "Node: Mukden, Degree: 1",
          "Node: ElemenZ, Degree: 1",
          "Node: Space Pioneers, Degree: 1",
          "Node: Bookmaker, Degree: 1",
          "Node: Escape from New York, Degree: 2",
          "Node: Tyranid Attack, Degree: 1",
          "Node: Merchants of Muziris, Degree: 1",
          "Node: Tataraba and Forest, Degree: 1"
         ],
         "type": "scatter",
         "x": [
          -0.8118096353891174,
          -0.7211759721802392,
          -0.6375873882576454,
          0.3785513806950601,
          0.5372559466162867,
          0.09985386966291461,
          0.4579571496782337,
          -0.9191880629773163,
          -0.4377252521469809,
          -0.5334739291746545,
          0.5668675733059888,
          0.6868326673796195,
          -0.9771397119210944,
          0.6784270519904254,
          0.7060115057233763,
          0.48978029256308414,
          0.8662965885741619,
          0.7405274673811736,
          -1,
          -0.19461744584996327,
          -0.38656686550995084,
          -0.09588153682374485,
          -0.04916819903367625,
          0.8002114147327946,
          -0.3340686532619987,
          -0.33069753730293155,
          0.6035893485894638,
          -0.18481764875522927,
          -0.03788959587552059,
          -0.27201595319916894,
          -0.6127497919061851,
          -0.4843029215494694,
          0.5526531435712607,
          0.8560607006510412
         ],
         "y": [
          -0.16150237388575264,
          -0.4039035257219699,
          0.10833538414387336,
          0.11050107274734212,
          0.1587870874663248,
          0.38134570927536315,
          0.2519761632090741,
          -0.297242654128119,
          0.3754831730611871,
          0.30850728663345944,
          -0.23653648717267084,
          -0.1365635950259973,
          -0.09410002990235847,
          -0.6028057568640933,
          -0.8025669676912456,
          -0.3340634048172325,
          -0.6861344074131943,
          -0.251318720160991,
          -0.21061831046425644,
          0.6418219536096957,
          0.7115679481111793,
          0.8360617844285017,
          0.6388171232430777,
          -0.7657612696617485,
          0.792965641000656,
          0.6052635458988109,
          -0.7906378685516825,
          0.8454026815419401,
          0.7549855042112533,
          0.8597653353441496,
          -0.602104306871555,
          -0.733298614795061,
          -0.694896296707323,
          -0.577532804090639
         ]
        }
       ],
       "layout": {
        "hovermode": "closest",
        "margin": {
         "b": 0,
         "l": 0,
         "r": 0,
         "t": 40
        },
        "showlegend": false,
        "template": {
         "data": {
          "bar": [
           {
            "error_x": {
             "color": "#2a3f5f"
            },
            "error_y": {
             "color": "#2a3f5f"
            },
            "marker": {
             "line": {
              "color": "#E5ECF6",
              "width": 0.5
             },
             "pattern": {
              "fillmode": "overlay",
              "size": 10,
              "solidity": 0.2
             }
            },
            "type": "bar"
           }
          ],
          "barpolar": [
           {
            "marker": {
             "line": {
              "color": "#E5ECF6",
              "width": 0.5
             },
             "pattern": {
              "fillmode": "overlay",
              "size": 10,
              "solidity": 0.2
             }
            },
            "type": "barpolar"
           }
          ],
          "carpet": [
           {
            "aaxis": {
             "endlinecolor": "#2a3f5f",
             "gridcolor": "white",
             "linecolor": "white",
             "minorgridcolor": "white",
             "startlinecolor": "#2a3f5f"
            },
            "baxis": {
             "endlinecolor": "#2a3f5f",
             "gridcolor": "white",
             "linecolor": "white",
             "minorgridcolor": "white",
             "startlinecolor": "#2a3f5f"
            },
            "type": "carpet"
           }
          ],
          "choropleth": [
           {
            "colorbar": {
             "outlinewidth": 0,
             "ticks": ""
            },
            "type": "choropleth"
           }
          ],
          "contour": [
           {
            "colorbar": {
             "outlinewidth": 0,
             "ticks": ""
            },
            "colorscale": [
             [
              0,
              "#0d0887"
             ],
             [
              0.1111111111111111,
              "#46039f"
             ],
             [
              0.2222222222222222,
              "#7201a8"
             ],
             [
              0.3333333333333333,
              "#9c179e"
             ],
             [
              0.4444444444444444,
              "#bd3786"
             ],
             [
              0.5555555555555556,
              "#d8576b"
             ],
             [
              0.6666666666666666,
              "#ed7953"
             ],
             [
              0.7777777777777778,
              "#fb9f3a"
             ],
             [
              0.8888888888888888,
              "#fdca26"
             ],
             [
              1,
              "#f0f921"
             ]
            ],
            "type": "contour"
           }
          ],
          "contourcarpet": [
           {
            "colorbar": {
             "outlinewidth": 0,
             "ticks": ""
            },
            "type": "contourcarpet"
           }
          ],
          "heatmap": [
           {
            "colorbar": {
             "outlinewidth": 0,
             "ticks": ""
            },
            "colorscale": [
             [
              0,
              "#0d0887"
             ],
             [
              0.1111111111111111,
              "#46039f"
             ],
             [
              0.2222222222222222,
              "#7201a8"
             ],
             [
              0.3333333333333333,
              "#9c179e"
             ],
             [
              0.4444444444444444,
              "#bd3786"
             ],
             [
              0.5555555555555556,
              "#d8576b"
             ],
             [
              0.6666666666666666,
              "#ed7953"
             ],
             [
              0.7777777777777778,
              "#fb9f3a"
             ],
             [
              0.8888888888888888,
              "#fdca26"
             ],
             [
              1,
              "#f0f921"
             ]
            ],
            "type": "heatmap"
           }
          ],
          "heatmapgl": [
           {
            "colorbar": {
             "outlinewidth": 0,
             "ticks": ""
            },
            "colorscale": [
             [
              0,
              "#0d0887"
             ],
             [
              0.1111111111111111,
              "#46039f"
             ],
             [
              0.2222222222222222,
              "#7201a8"
             ],
             [
              0.3333333333333333,
              "#9c179e"
             ],
             [
              0.4444444444444444,
              "#bd3786"
             ],
             [
              0.5555555555555556,
              "#d8576b"
             ],
             [
              0.6666666666666666,
              "#ed7953"
             ],
             [
              0.7777777777777778,
              "#fb9f3a"
             ],
             [
              0.8888888888888888,
              "#fdca26"
             ],
             [
              1,
              "#f0f921"
             ]
            ],
            "type": "heatmapgl"
           }
          ],
          "histogram": [
           {
            "marker": {
             "pattern": {
              "fillmode": "overlay",
              "size": 10,
              "solidity": 0.2
             }
            },
            "type": "histogram"
           }
          ],
          "histogram2d": [
           {
            "colorbar": {
             "outlinewidth": 0,
             "ticks": ""
            },
            "colorscale": [
             [
              0,
              "#0d0887"
             ],
             [
              0.1111111111111111,
              "#46039f"
             ],
             [
              0.2222222222222222,
              "#7201a8"
             ],
             [
              0.3333333333333333,
              "#9c179e"
             ],
             [
              0.4444444444444444,
              "#bd3786"
             ],
             [
              0.5555555555555556,
              "#d8576b"
             ],
             [
              0.6666666666666666,
              "#ed7953"
             ],
             [
              0.7777777777777778,
              "#fb9f3a"
             ],
             [
              0.8888888888888888,
              "#fdca26"
             ],
             [
              1,
              "#f0f921"
             ]
            ],
            "type": "histogram2d"
           }
          ],
          "histogram2dcontour": [
           {
            "colorbar": {
             "outlinewidth": 0,
             "ticks": ""
            },
            "colorscale": [
             [
              0,
              "#0d0887"
             ],
             [
              0.1111111111111111,
              "#46039f"
             ],
             [
              0.2222222222222222,
              "#7201a8"
             ],
             [
              0.3333333333333333,
              "#9c179e"
             ],
             [
              0.4444444444444444,
              "#bd3786"
             ],
             [
              0.5555555555555556,
              "#d8576b"
             ],
             [
              0.6666666666666666,
              "#ed7953"
             ],
             [
              0.7777777777777778,
              "#fb9f3a"
             ],
             [
              0.8888888888888888,
              "#fdca26"
             ],
             [
              1,
              "#f0f921"
             ]
            ],
            "type": "histogram2dcontour"
           }
          ],
          "mesh3d": [
           {
            "colorbar": {
             "outlinewidth": 0,
             "ticks": ""
            },
            "type": "mesh3d"
           }
          ],
          "parcoords": [
           {
            "line": {
             "colorbar": {
              "outlinewidth": 0,
              "ticks": ""
             }
            },
            "type": "parcoords"
           }
          ],
          "pie": [
           {
            "automargin": true,
            "type": "pie"
           }
          ],
          "scatter": [
           {
            "fillpattern": {
             "fillmode": "overlay",
             "size": 10,
             "solidity": 0.2
            },
            "type": "scatter"
           }
          ],
          "scatter3d": [
           {
            "line": {
             "colorbar": {
              "outlinewidth": 0,
              "ticks": ""
             }
            },
            "marker": {
             "colorbar": {
              "outlinewidth": 0,
              "ticks": ""
             }
            },
            "type": "scatter3d"
           }
          ],
          "scattercarpet": [
           {
            "marker": {
             "colorbar": {
              "outlinewidth": 0,
              "ticks": ""
             }
            },
            "type": "scattercarpet"
           }
          ],
          "scattergeo": [
           {
            "marker": {
             "colorbar": {
              "outlinewidth": 0,
              "ticks": ""
             }
            },
            "type": "scattergeo"
           }
          ],
          "scattergl": [
           {
            "marker": {
             "colorbar": {
              "outlinewidth": 0,
              "ticks": ""
             }
            },
            "type": "scattergl"
           }
          ],
          "scattermapbox": [
           {
            "marker": {
             "colorbar": {
              "outlinewidth": 0,
              "ticks": ""
             }
            },
            "type": "scattermapbox"
           }
          ],
          "scatterpolar": [
           {
            "marker": {
             "colorbar": {
              "outlinewidth": 0,
              "ticks": ""
             }
            },
            "type": "scatterpolar"
           }
          ],
          "scatterpolargl": [
           {
            "marker": {
             "colorbar": {
              "outlinewidth": 0,
              "ticks": ""
             }
            },
            "type": "scatterpolargl"
           }
          ],
          "scatterternary": [
           {
            "marker": {
             "colorbar": {
              "outlinewidth": 0,
              "ticks": ""
             }
            },
            "type": "scatterternary"
           }
          ],
          "surface": [
           {
            "colorbar": {
             "outlinewidth": 0,
             "ticks": ""
            },
            "colorscale": [
             [
              0,
              "#0d0887"
             ],
             [
              0.1111111111111111,
              "#46039f"
             ],
             [
              0.2222222222222222,
              "#7201a8"
             ],
             [
              0.3333333333333333,
              "#9c179e"
             ],
             [
              0.4444444444444444,
              "#bd3786"
             ],
             [
              0.5555555555555556,
              "#d8576b"
             ],
             [
              0.6666666666666666,
              "#ed7953"
             ],
             [
              0.7777777777777778,
              "#fb9f3a"
             ],
             [
              0.8888888888888888,
              "#fdca26"
             ],
             [
              1,
              "#f0f921"
             ]
            ],
            "type": "surface"
           }
          ],
          "table": [
           {
            "cells": {
             "fill": {
              "color": "#EBF0F8"
             },
             "line": {
              "color": "white"
             }
            },
            "header": {
             "fill": {
              "color": "#C8D4E3"
             },
             "line": {
              "color": "white"
             }
            },
            "type": "table"
           }
          ]
         },
         "layout": {
          "annotationdefaults": {
           "arrowcolor": "#2a3f5f",
           "arrowhead": 0,
           "arrowwidth": 1
          },
          "autotypenumbers": "strict",
          "coloraxis": {
           "colorbar": {
            "outlinewidth": 0,
            "ticks": ""
           }
          },
          "colorscale": {
           "diverging": [
            [
             0,
             "#8e0152"
            ],
            [
             0.1,
             "#c51b7d"
            ],
            [
             0.2,
             "#de77ae"
            ],
            [
             0.3,
             "#f1b6da"
            ],
            [
             0.4,
             "#fde0ef"
            ],
            [
             0.5,
             "#f7f7f7"
            ],
            [
             0.6,
             "#e6f5d0"
            ],
            [
             0.7,
             "#b8e186"
            ],
            [
             0.8,
             "#7fbc41"
            ],
            [
             0.9,
             "#4d9221"
            ],
            [
             1,
             "#276419"
            ]
           ],
           "sequential": [
            [
             0,
             "#0d0887"
            ],
            [
             0.1111111111111111,
             "#46039f"
            ],
            [
             0.2222222222222222,
             "#7201a8"
            ],
            [
             0.3333333333333333,
             "#9c179e"
            ],
            [
             0.4444444444444444,
             "#bd3786"
            ],
            [
             0.5555555555555556,
             "#d8576b"
            ],
            [
             0.6666666666666666,
             "#ed7953"
            ],
            [
             0.7777777777777778,
             "#fb9f3a"
            ],
            [
             0.8888888888888888,
             "#fdca26"
            ],
            [
             1,
             "#f0f921"
            ]
           ],
           "sequentialminus": [
            [
             0,
             "#0d0887"
            ],
            [
             0.1111111111111111,
             "#46039f"
            ],
            [
             0.2222222222222222,
             "#7201a8"
            ],
            [
             0.3333333333333333,
             "#9c179e"
            ],
            [
             0.4444444444444444,
             "#bd3786"
            ],
            [
             0.5555555555555556,
             "#d8576b"
            ],
            [
             0.6666666666666666,
             "#ed7953"
            ],
            [
             0.7777777777777778,
             "#fb9f3a"
            ],
            [
             0.8888888888888888,
             "#fdca26"
            ],
            [
             1,
             "#f0f921"
            ]
           ]
          },
          "colorway": [
           "#636efa",
           "#EF553B",
           "#00cc96",
           "#ab63fa",
           "#FFA15A",
           "#19d3f3",
           "#FF6692",
           "#B6E880",
           "#FF97FF",
           "#FECB52"
          ],
          "font": {
           "color": "#2a3f5f"
          },
          "geo": {
           "bgcolor": "white",
           "lakecolor": "white",
           "landcolor": "#E5ECF6",
           "showlakes": true,
           "showland": true,
           "subunitcolor": "white"
          },
          "hoverlabel": {
           "align": "left"
          },
          "hovermode": "closest",
          "mapbox": {
           "style": "light"
          },
          "paper_bgcolor": "white",
          "plot_bgcolor": "#E5ECF6",
          "polar": {
           "angularaxis": {
            "gridcolor": "white",
            "linecolor": "white",
            "ticks": ""
           },
           "bgcolor": "#E5ECF6",
           "radialaxis": {
            "gridcolor": "white",
            "linecolor": "white",
            "ticks": ""
           }
          },
          "scene": {
           "xaxis": {
            "backgroundcolor": "#E5ECF6",
            "gridcolor": "white",
            "gridwidth": 2,
            "linecolor": "white",
            "showbackground": true,
            "ticks": "",
            "zerolinecolor": "white"
           },
           "yaxis": {
            "backgroundcolor": "#E5ECF6",
            "gridcolor": "white",
            "gridwidth": 2,
            "linecolor": "white",
            "showbackground": true,
            "ticks": "",
            "zerolinecolor": "white"
           },
           "zaxis": {
            "backgroundcolor": "#E5ECF6",
            "gridcolor": "white",
            "gridwidth": 2,
            "linecolor": "white",
            "showbackground": true,
            "ticks": "",
            "zerolinecolor": "white"
           }
          },
          "shapedefaults": {
           "line": {
            "color": "#2a3f5f"
           }
          },
          "ternary": {
           "aaxis": {
            "gridcolor": "white",
            "linecolor": "white",
            "ticks": ""
           },
           "baxis": {
            "gridcolor": "white",
            "linecolor": "white",
            "ticks": ""
           },
           "bgcolor": "#E5ECF6",
           "caxis": {
            "gridcolor": "white",
            "linecolor": "white",
            "ticks": ""
           }
          },
          "title": {
           "x": 0.05
          },
          "xaxis": {
           "automargin": true,
           "gridcolor": "white",
           "linecolor": "white",
           "ticks": "",
           "title": {
            "standoff": 15
           },
           "zerolinecolor": "white",
           "zerolinewidth": 2
          },
          "yaxis": {
           "automargin": true,
           "gridcolor": "white",
           "linecolor": "white",
           "ticks": "",
           "title": {
            "standoff": 15
           },
           "zerolinecolor": "white",
           "zerolinewidth": 2
          }
         }
        },
        "title": {
         "text": "Force-Directed Graph"
        },
        "xaxis": {
         "showgrid": false,
         "zeroline": false
        },
        "yaxis": {
         "showgrid": false,
         "zeroline": false
        }
       }
      }
     },
     "metadata": {},
     "output_type": "display_data"
    }
   ],
   "source": [
    "import plotly.graph_objects as go\n",
    "import pandas as pd\n",
    "import networkx as nx\n",
    "\n",
    "# Load CSV data\n",
    "df = pd.read_csv('board_games.csv')\n",
    "\n",
    "# Create graph from CSV\n",
    "G = nx.from_pandas_edgelist(df, 'source', 'target', ['value'])\n",
    "\n",
    "# Get positions for the nodes (force-directed layout)\n",
    "pos = nx.spring_layout(G)\n",
    "\n",
    "# Node trace\n",
    "node_trace = go.Scatter(\n",
    "    x=[pos[node][0] for node in G.nodes()],\n",
    "    y=[pos[node][1] for node in G.nodes()],\n",
    "    mode='markers',\n",
    "    marker=dict(\n",
    "        size=[10 + 5 * G.degree[node] for node in G.nodes()],  # Dynamic size based on degree\n",
    "        color=[G.degree[node] for node in G.nodes()],  # Dynamic color based on degree\n",
    "        colorscale='Viridis',\n",
    "        colorbar=dict(title='Node Connections')\n",
    "    ),\n",
    "    text=[f\"Node: {node}, Degree: {G.degree[node]}\" for node in G.nodes()],\n",
    "    hoverinfo='text'\n",
    ")\n",
    "\n",
    "# Edge trace\n",
    "edge_trace = go.Scatter(\n",
    "    x=[],\n",
    "    y=[],\n",
    "    line=dict(width=2, color='gray'),  # Constant line width\n",
    "    hoverinfo='none',\n",
    "    mode='lines'\n",
    ")\n",
    "\n",
    "# Add edge positions based on the 'value' column\n",
    "for edge in G.edges(data=True):\n",
    "    x0, y0 = pos[edge[0]]\n",
    "    x1, y1 = pos[edge[1]]\n",
    "    edge_trace['x'] += (x0, x1, None)\n",
    "    edge_trace['y'] += (y0, y1, None)\n",
    "\n",
    "# Create the figure\n",
    "fig = go.Figure(data=[edge_trace, node_trace],\n",
    "                layout=go.Layout(\n",
    "                    title='Force-Directed Graph',\n",
    "                    showlegend=False,\n",
    "                    hovermode='closest',\n",
    "                    margin=dict(b=0, l=0, r=0, t=40),\n",
    "                    xaxis=dict(showgrid=False, zeroline=False),\n",
    "                    yaxis=dict(showgrid=False, zeroline=False))\n",
    "                )\n",
    "\n",
    "# Show the figure\n",
    "fig.show()\n"
   ]
  },
  {
   "cell_type": "code",
   "execution_count": 4,
   "metadata": {},
   "outputs": [
    {
     "name": "stdout",
     "output_type": "stream",
     "text": [
      "New CSV file created with station names instead of codes.\n"
     ]
    }
   ],
   "source": [
    "import pandas as pd\n",
    "\n",
    "# Load the stations.csv file\n",
    "stations_df = pd.read_csv('toronto/stations.csv')\n",
    "\n",
    "# Load the trips.csv file\n",
    "trips_df = pd.read_csv('toronto/trips.csv')\n",
    "\n",
    "# Create a dictionary to map station codes to station names\n",
    "station_code_to_name = dict(zip(stations_df['code'], stations_df['name']))\n",
    "\n",
    "# Map the start and end station codes to station names in the trips_df\n",
    "trips_df['start_station_name'] = trips_df['start_station_code'].map(station_code_to_name)\n",
    "trips_df['end_station_name'] = trips_df['end_station_code'].map(station_code_to_name)\n",
    "\n",
    "# Drop the original start and end station codes\n",
    "trips_df.drop(['start_station_code', 'end_station_code'], axis=1, inplace=True)\n",
    "\n",
    "# Save the new CSV with station names\n",
    "trips_df.to_csv('trips_with_station_names.csv', index=False)\n",
    "\n",
    "print(\"New CSV file created with station names instead of codes.\")\n"
   ]
  },
  {
   "cell_type": "code",
   "execution_count": 5,
   "metadata": {},
   "outputs": [],
   "source": [
    "import pandas as pd\n",
    "\n",
    "# Load the dataset\n",
    "df = pd.read_csv('trips_with_station_names.csv')\n",
    "\n",
    "# Create a dataframe for edges (trips between stations)\n",
    "edges = df.groupby(['start_station_name', 'end_station_name']).size().reset_index(name='trip_count')\n",
    "\n",
    "# Create a dataframe for nodes (total trips involving each station)\n",
    "start_stations = df.groupby('start_station_name').size().reset_index(name='start_count')\n",
    "end_stations = df.groupby('end_station_name').size().reset_index(name='end_count')\n",
    "\n",
    "# Merge start and end station counts to get total appearances\n",
    "nodes = pd.merge(start_stations, end_stations, left_on='start_station_name', right_on='end_station_name', how='outer')\n",
    "\n",
    "# Fill NaN values and sum the counts\n",
    "nodes['total_count'] = nodes['start_count'].fillna(0) + nodes['end_count'].fillna(0)\n",
    "\n",
    "# Keep only station name and total count\n",
    "nodes = nodes[['start_station_name', 'total_count']].rename(columns={'start_station_name': 'station_name'})\n",
    "\n",
    "# Save the results to CSV files\n",
    "edges.to_csv('aggregated_edges.csv', index=False)\n",
    "nodes.to_csv('aggregated_nodes.csv', index=False)\n"
   ]
  }
 ],
 "metadata": {
  "kernelspec": {
   "display_name": "Python 3",
   "language": "python",
   "name": "python3"
  },
  "language_info": {
   "codemirror_mode": {
    "name": "ipython",
    "version": 3
   },
   "file_extension": ".py",
   "mimetype": "text/x-python",
   "name": "python",
   "nbconvert_exporter": "python",
   "pygments_lexer": "ipython3",
   "version": "3.9.18"
  }
 },
 "nbformat": 4,
 "nbformat_minor": 2
}
